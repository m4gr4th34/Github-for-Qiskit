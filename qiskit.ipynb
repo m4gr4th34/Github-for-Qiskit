{
 "cells": [
  {
   "cell_type": "code",
   "execution_count": 19,
   "metadata": {},
   "outputs": [],
   "source": [
    "import qiskit as qk"
   ]
  },
  {
   "cell_type": "code",
   "execution_count": 20,
   "metadata": {},
   "outputs": [],
   "source": [
    "qr = qk.QuantumRegister(2)"
   ]
  },
  {
   "cell_type": "code",
   "execution_count": 21,
   "metadata": {},
   "outputs": [],
   "source": [
    "cr = qk.ClassicalRegister(2)"
   ]
  },
  {
   "cell_type": "code",
   "execution_count": 22,
   "metadata": {},
   "outputs": [],
   "source": [
    "qc = qk.QuantumCircuit(qr,cr)"
   ]
  },
  {
   "cell_type": "code",
   "execution_count": 23,
   "metadata": {},
   "outputs": [
    {
     "data": {
      "text/plain": [
       "<qiskit.extensions.standard.h.HGate at 0x17a2178bac8>"
      ]
     },
     "execution_count": 23,
     "metadata": {},
     "output_type": "execute_result"
    }
   ],
   "source": [
    "qc.h(qr[0])"
   ]
  },
  {
   "cell_type": "code",
   "execution_count": 24,
   "metadata": {},
   "outputs": [
    {
     "data": {
      "text/plain": [
       "<qiskit.extensions.standard.cx.CnotGate at 0x17a2178be48>"
      ]
     },
     "execution_count": 24,
     "metadata": {},
     "output_type": "execute_result"
    }
   ],
   "source": [
    "qc.cx(qr[0],qr[1])"
   ]
  },
  {
   "cell_type": "code",
   "execution_count": 25,
   "metadata": {},
   "outputs": [],
   "source": [
    "measure_Z = qk.QuantumCircuit(qr,cr)"
   ]
  },
  {
   "cell_type": "code",
   "execution_count": 26,
   "metadata": {},
   "outputs": [
    {
     "data": {
      "text/plain": [
       "<qiskit.circuit.instructionset.InstructionSet at 0x17a2188c240>"
      ]
     },
     "execution_count": 26,
     "metadata": {},
     "output_type": "execute_result"
    }
   ],
   "source": [
    "measure_Z.measure(qr,cr)"
   ]
  },
  {
   "cell_type": "code",
   "execution_count": 27,
   "metadata": {},
   "outputs": [],
   "source": [
    "measure_X = qk.QuantumCircuit(qr,cr)"
   ]
  },
  {
   "cell_type": "code",
   "execution_count": 28,
   "metadata": {},
   "outputs": [
    {
     "data": {
      "text/plain": [
       "<qiskit.circuit.instructionset.InstructionSet at 0x17a2188c780>"
      ]
     },
     "execution_count": 28,
     "metadata": {},
     "output_type": "execute_result"
    }
   ],
   "source": [
    "measure_X.h(qr)"
   ]
  },
  {
   "cell_type": "code",
   "execution_count": 29,
   "metadata": {},
   "outputs": [
    {
     "data": {
      "text/plain": [
       "<qiskit.circuit.instructionset.InstructionSet at 0x17a2178b898>"
      ]
     },
     "execution_count": 29,
     "metadata": {},
     "output_type": "execute_result"
    }
   ],
   "source": [
    "measure_X.measure(qr,cr)"
   ]
  },
  {
   "cell_type": "code",
   "execution_count": 30,
   "metadata": {},
   "outputs": [],
   "source": [
    "test_Z = qc + measure_Z"
   ]
  },
  {
   "cell_type": "code",
   "execution_count": 31,
   "metadata": {},
   "outputs": [],
   "source": [
    "test_X = qc + measure_X"
   ]
  },
  {
   "cell_type": "code",
   "execution_count": 32,
   "metadata": {},
   "outputs": [
    {
     "ename": "AttributeError",
     "evalue": "'str' object has no attribute 'configuration'",
     "output_type": "error",
     "traceback": [
      "\u001b[1;31m---------------------------------------------------------------------------\u001b[0m",
      "\u001b[1;31mAttributeError\u001b[0m                            Traceback (most recent call last)",
      "\u001b[1;32m<ipython-input-32-d31584e86464>\u001b[0m in \u001b[0;36m<module>\u001b[1;34m\u001b[0m\n\u001b[1;32m----> 1\u001b[1;33m \u001b[0mjob_1\u001b[0m \u001b[1;33m=\u001b[0m \u001b[0mqk\u001b[0m\u001b[1;33m.\u001b[0m\u001b[0mexecute\u001b[0m\u001b[1;33m(\u001b[0m\u001b[1;33m[\u001b[0m\u001b[0mtest_Z\u001b[0m\u001b[1;33m,\u001b[0m\u001b[0mtest_X\u001b[0m\u001b[1;33m]\u001b[0m\u001b[1;33m,\u001b[0m\u001b[0mbackend\u001b[0m\u001b[1;33m=\u001b[0m\u001b[1;34m'local_qasm_simulator'\u001b[0m\u001b[1;33m,\u001b[0m\u001b[0mshots\u001b[0m\u001b[1;33m=\u001b[0m\u001b[1;36m1000\u001b[0m\u001b[1;33m)\u001b[0m\u001b[1;33m\u001b[0m\u001b[1;33m\u001b[0m\u001b[0m\n\u001b[0m",
      "\u001b[1;32m~\\Anaconda3\\lib\\site-packages\\qiskit\\tools\\compiler.py\u001b[0m in \u001b[0;36mexecute\u001b[1;34m(circuits, backend, config, basis_gates, coupling_map, initial_layout, shots, max_credits, seed, qobj_id, skip_transpiler, seed_mapper, pass_manager, memory, **kwargs)\u001b[0m\n\u001b[0;32m    106\u001b[0m                    \u001b[0mconfig\u001b[0m\u001b[1;33m,\u001b[0m \u001b[0mbasis_gates\u001b[0m\u001b[1;33m,\u001b[0m \u001b[0mcoupling_map\u001b[0m\u001b[1;33m,\u001b[0m \u001b[0minitial_layout\u001b[0m\u001b[1;33m,\u001b[0m\u001b[1;33m\u001b[0m\u001b[1;33m\u001b[0m\u001b[0m\n\u001b[0;32m    107\u001b[0m                    \u001b[0mshots\u001b[0m\u001b[1;33m,\u001b[0m \u001b[0mmax_credits\u001b[0m\u001b[1;33m,\u001b[0m \u001b[0mseed\u001b[0m\u001b[1;33m,\u001b[0m \u001b[0mqobj_id\u001b[0m\u001b[1;33m,\u001b[0m\u001b[1;33m\u001b[0m\u001b[1;33m\u001b[0m\u001b[0m\n\u001b[1;32m--> 108\u001b[1;33m                    skip_transpiler, seed_mapper, pass_manager, memory)\n\u001b[0m\u001b[0;32m    109\u001b[0m \u001b[1;33m\u001b[0m\u001b[0m\n\u001b[0;32m    110\u001b[0m     \u001b[1;32mreturn\u001b[0m \u001b[0mbackend\u001b[0m\u001b[1;33m.\u001b[0m\u001b[0mrun\u001b[0m\u001b[1;33m(\u001b[0m\u001b[0mqobj\u001b[0m\u001b[1;33m,\u001b[0m \u001b[1;33m**\u001b[0m\u001b[0mkwargs\u001b[0m\u001b[1;33m)\u001b[0m\u001b[1;33m\u001b[0m\u001b[1;33m\u001b[0m\u001b[0m\n",
      "\u001b[1;32m~\\Anaconda3\\lib\\site-packages\\qiskit\\tools\\compiler.py\u001b[0m in \u001b[0;36mcompile\u001b[1;34m(circuits, backend, config, basis_gates, coupling_map, initial_layout, shots, max_credits, seed, qobj_id, skip_transpiler, seed_mapper, pass_manager, memory)\u001b[0m\n\u001b[0;32m     53\u001b[0m                       DeprecationWarning)\n\u001b[0;32m     54\u001b[0m \u001b[1;33m\u001b[0m\u001b[0m\n\u001b[1;32m---> 55\u001b[1;33m     \u001b[0mbackend_memory\u001b[0m \u001b[1;33m=\u001b[0m \u001b[0mgetattr\u001b[0m\u001b[1;33m(\u001b[0m\u001b[0mbackend\u001b[0m\u001b[1;33m.\u001b[0m\u001b[0mconfiguration\u001b[0m\u001b[1;33m(\u001b[0m\u001b[1;33m)\u001b[0m\u001b[1;33m,\u001b[0m \u001b[1;34m'memory'\u001b[0m\u001b[1;33m,\u001b[0m \u001b[1;32mFalse\u001b[0m\u001b[1;33m)\u001b[0m\u001b[1;33m\u001b[0m\u001b[1;33m\u001b[0m\u001b[0m\n\u001b[0m\u001b[0;32m     56\u001b[0m     \u001b[1;32mif\u001b[0m \u001b[0mmemory\u001b[0m \u001b[1;32mand\u001b[0m \u001b[1;32mnot\u001b[0m \u001b[0mbackend_memory\u001b[0m\u001b[1;33m:\u001b[0m\u001b[1;33m\u001b[0m\u001b[1;33m\u001b[0m\u001b[0m\n\u001b[0;32m     57\u001b[0m         raise QiskitError(\"Backend %s only returns total counts, not single-shot memory.\" %\n",
      "\u001b[1;31mAttributeError\u001b[0m: 'str' object has no attribute 'configuration'"
     ]
    }
   ],
   "source": [
    "job_1 = qk.execute([test_Z,test_X],backend='local_qasm_simulator',shots=1000)"
   ]
  },
  {
   "cell_type": "code",
   "execution_count": 15,
   "metadata": {},
   "outputs": [
    {
     "ename": "NameError",
     "evalue": "name 'job_1' is not defined",
     "output_type": "error",
     "traceback": [
      "\u001b[1;31m---------------------------------------------------------------------------\u001b[0m",
      "\u001b[1;31mNameError\u001b[0m                                 Traceback (most recent call last)",
      "\u001b[1;32m<ipython-input-15-c93a15b4294b>\u001b[0m in \u001b[0;36m<module>\u001b[1;34m\u001b[0m\n\u001b[1;32m----> 1\u001b[1;33m \u001b[0mresult_1\u001b[0m \u001b[1;33m=\u001b[0m \u001b[0mjob_1\u001b[0m\u001b[1;33m.\u001b[0m\u001b[0mresult\u001b[0m\u001b[1;33m(\u001b[0m\u001b[1;33m)\u001b[0m\u001b[1;33m\u001b[0m\u001b[1;33m\u001b[0m\u001b[0m\n\u001b[0m",
      "\u001b[1;31mNameError\u001b[0m: name 'job_1' is not defined"
     ]
    }
   ],
   "source": [
    "result_1 = job_1.result()"
   ]
  },
  {
   "cell_type": "code",
   "execution_count": 16,
   "metadata": {},
   "outputs": [
    {
     "ename": "NameError",
     "evalue": "name 'result_1' is not defined",
     "output_type": "error",
     "traceback": [
      "\u001b[1;31m---------------------------------------------------------------------------\u001b[0m",
      "\u001b[1;31mNameError\u001b[0m                                 Traceback (most recent call last)",
      "\u001b[1;32m<ipython-input-16-d6be743a347e>\u001b[0m in \u001b[0;36m<module>\u001b[1;34m\u001b[0m\n\u001b[1;32m----> 1\u001b[1;33m \u001b[0mresult_1\u001b[0m\u001b[1;33m.\u001b[0m\u001b[0mget_counts\u001b[0m\u001b[1;33m(\u001b[0m\u001b[0mtest_Z\u001b[0m\u001b[1;33m)\u001b[0m\u001b[1;33m\u001b[0m\u001b[1;33m\u001b[0m\u001b[0m\n\u001b[0m",
      "\u001b[1;31mNameError\u001b[0m: name 'result_1' is not defined"
     ]
    }
   ],
   "source": [
    "result_1.get_counts(test_Z)"
   ]
  },
  {
   "cell_type": "code",
   "execution_count": 18,
   "metadata": {},
   "outputs": [
    {
     "name": "stdout",
     "output_type": "stream",
     "text": [
      "Requirement already satisfied: qiskit in c:\\users\\irfan\\anaconda3\\lib\\site-packages (0.8.1)\n",
      "Collecting qiskit-aqua\n",
      "  Using cached https://files.pythonhosted.org/packages/52/55/14810048c9e2eecd7949b1868e9871ecba0dd680d9688172994773c6696f/qiskit_aqua-0.4.1-py3-none-any.whl\n",
      "Collecting qiskit-chemistry\n",
      "  Using cached https://files.pythonhosted.org/packages/47/09/1b929005bdc7ae8d8b8986c1b56770663a1b1d00349b14a85e73b4c66ac1/qiskit_chemistry-0.4.2-py3-none-any.whl\n",
      "Requirement already satisfied: qiskit_terra==0.7.2 in c:\\users\\irfan\\anaconda3\\lib\\site-packages (from qiskit) (0.7.2)\n",
      "Requirement already satisfied: qiskit-aer==0.1.1 in c:\\users\\irfan\\anaconda3\\lib\\site-packages (from qiskit) (0.1.1)\n",
      "Requirement already satisfied: qiskit-ignis==0.1.0 in c:\\users\\irfan\\anaconda3\\lib\\site-packages (from qiskit) (0.1.0)\n",
      "Requirement already satisfied: numpy>=1.13 in c:\\users\\irfan\\anaconda3\\lib\\site-packages (from qiskit-aqua) (1.16.2)\n",
      "Collecting scikit-learn==0.20.0 (from qiskit-aqua)\n",
      "  Using cached https://files.pythonhosted.org/packages/ce/95/037f6bfa883efbac4ffaaa1db1ad745214331f5e2d7fc8922e076c7ebb18/scikit_learn-0.20.0-cp37-cp37m-win_amd64.whl\n",
      "Requirement already satisfied: jsonschema<2.7,>=2.6 in c:\\users\\irfan\\anaconda3\\lib\\site-packages (from qiskit-aqua) (2.6.0)\n",
      "Requirement already satisfied: sympy>=1.3 in c:\\users\\irfan\\anaconda3\\lib\\site-packages (from qiskit-aqua) (1.3)\n",
      "Requirement already satisfied: scipy!=0.19.1,>=0.19 in c:\\users\\irfan\\anaconda3\\lib\\site-packages (from qiskit-aqua) (1.2.1)\n",
      "Collecting cvxopt (from qiskit-aqua)\n",
      "  Using cached https://files.pythonhosted.org/packages/4f/f3/75ad5f2d09226008ba126eb260f81f602c23ec720dd6cf1da935ec894383/cvxopt-1.2.3-cp37-cp37m-win_amd64.whl\n",
      "Requirement already satisfied: setuptools>=40.5.0 in c:\\users\\irfan\\anaconda3\\lib\\site-packages (from qiskit-aqua) (40.8.0)\n",
      "Requirement already satisfied: psutil>=5 in c:\\users\\irfan\\anaconda3\\lib\\site-packages (from qiskit-aqua) (5.6.1)\n",
      "Requirement already satisfied: h5py in c:\\users\\irfan\\anaconda3\\lib\\site-packages (from qiskit-chemistry) (2.9.0)\n",
      "Requirement already satisfied: marshmallow<3,>=2.16.3 in c:\\users\\irfan\\anaconda3\\lib\\site-packages (from qiskit_terra==0.7.2->qiskit) (2.19.2)\n",
      "Requirement already satisfied: pillow>=4.2.1 in c:\\users\\irfan\\anaconda3\\lib\\site-packages (from qiskit_terra==0.7.2->qiskit) (5.4.1)\n",
      "Requirement already satisfied: requests-ntlm>=1.1.0 in c:\\users\\irfan\\anaconda3\\lib\\site-packages (from qiskit_terra==0.7.2->qiskit) (1.1.0)\n",
      "Requirement already satisfied: marshmallow-polyfield<4,>=3.2 in c:\\users\\irfan\\anaconda3\\lib\\site-packages (from qiskit_terra==0.7.2->qiskit) (3.2)\n",
      "Requirement already satisfied: ply>=3.10 in c:\\users\\irfan\\anaconda3\\lib\\site-packages (from qiskit_terra==0.7.2->qiskit) (3.11)\n",
      "Requirement already satisfied: networkx>=2.2 in c:\\users\\irfan\\anaconda3\\lib\\site-packages (from qiskit_terra==0.7.2->qiskit) (2.2)\n",
      "Requirement already satisfied: requests>=2.19 in c:\\users\\irfan\\anaconda3\\lib\\site-packages (from qiskit_terra==0.7.2->qiskit) (2.21.0)\n",
      "Collecting mkl (from cvxopt->qiskit-aqua)\n",
      "  Using cached https://files.pythonhosted.org/packages/56/39/537cb3e4e93f1ac5085dc3b3a43cfd99d0af9b29c44fcaa99490f526b611/mkl-2019.0-py2.py3-none-win_amd64.whl\n",
      "Requirement already satisfied: six in c:\\users\\irfan\\anaconda3\\lib\\site-packages (from h5py->qiskit-chemistry) (1.12.0)\n",
      "Requirement already satisfied: cryptography>=1.3 in c:\\users\\irfan\\anaconda3\\lib\\site-packages (from requests-ntlm>=1.1.0->qiskit_terra==0.7.2->qiskit) (2.6.1)\n",
      "Requirement already satisfied: ntlm-auth>=1.0.2 in c:\\users\\irfan\\anaconda3\\lib\\site-packages (from requests-ntlm>=1.1.0->qiskit_terra==0.7.2->qiskit) (1.3.0)\n",
      "Requirement already satisfied: decorator>=4.3.0 in c:\\users\\irfan\\anaconda3\\lib\\site-packages (from networkx>=2.2->qiskit_terra==0.7.2->qiskit) (4.4.0)\n",
      "Requirement already satisfied: chardet<3.1.0,>=3.0.2 in c:\\users\\irfan\\anaconda3\\lib\\site-packages (from requests>=2.19->qiskit_terra==0.7.2->qiskit) (3.0.4)\n",
      "Requirement already satisfied: certifi>=2017.4.17 in c:\\users\\irfan\\anaconda3\\lib\\site-packages (from requests>=2.19->qiskit_terra==0.7.2->qiskit) (2019.3.9)\n",
      "Requirement already satisfied: urllib3<1.25,>=1.21.1 in c:\\users\\irfan\\anaconda3\\lib\\site-packages (from requests>=2.19->qiskit_terra==0.7.2->qiskit) (1.24.1)\n",
      "Requirement already satisfied: idna<2.9,>=2.5 in c:\\users\\irfan\\anaconda3\\lib\\site-packages (from requests>=2.19->qiskit_terra==0.7.2->qiskit) (2.8)\n",
      "Requirement already satisfied: intel-openmp in c:\\users\\irfan\\anaconda3\\lib\\site-packages (from mkl->cvxopt->qiskit-aqua) (2019.0)\n",
      "Requirement already satisfied: cffi!=1.11.3,>=1.8 in c:\\users\\irfan\\anaconda3\\lib\\site-packages (from cryptography>=1.3->requests-ntlm>=1.1.0->qiskit_terra==0.7.2->qiskit) (1.12.2)\n",
      "Requirement already satisfied: asn1crypto>=0.21.0 in c:\\users\\irfan\\anaconda3\\lib\\site-packages (from cryptography>=1.3->requests-ntlm>=1.1.0->qiskit_terra==0.7.2->qiskit) (0.24.0)\n",
      "Requirement already satisfied: pycparser in c:\\users\\irfan\\anaconda3\\lib\\site-packages (from cffi!=1.11.3,>=1.8->cryptography>=1.3->requests-ntlm>=1.1.0->qiskit_terra==0.7.2->qiskit) (2.19)\n",
      "Installing collected packages: scikit-learn, mkl, cvxopt, qiskit-aqua, qiskit-chemistry\n",
      "Successfully installed cvxopt-1.2.3 mkl-2019.0 qiskit-aqua-0.4.1 qiskit-chemistry-0.4.2 scikit-learn-0.20.0\n",
      "Note: you may need to restart the kernel to use updated packages.\n"
     ]
    },
    {
     "name": "stderr",
     "output_type": "stream",
     "text": [
      "  The script qiskit_aqua_cmd.exe is installed in 'C:\\Users\\irfan\\AppData\\Roaming\\Python\\Python37\\Scripts' which is not on PATH.\n",
      "  Consider adding this directory to PATH or, if you prefer to suppress this warning, use --no-warn-script-location.\n",
      "  The script qiskit_chemistry_cmd.exe is installed in 'C:\\Users\\irfan\\AppData\\Roaming\\Python\\Python37\\Scripts' which is not on PATH.\n",
      "  Consider adding this directory to PATH or, if you prefer to suppress this warning, use --no-warn-script-location.\n"
     ]
    }
   ],
   "source": [
    "pip install --user qiskit qiskit-aqua qiskit-chemistry"
   ]
  },
  {
   "cell_type": "code",
   "execution_count": 19,
   "metadata": {},
   "outputs": [
    {
     "ename": "NameError",
     "evalue": "name 'user' is not defined",
     "output_type": "error",
     "traceback": [
      "\u001b[1;31m---------------------------------------------------------------------------\u001b[0m",
      "\u001b[1;31mNameError\u001b[0m                                 Traceback (most recent call last)",
      "\u001b[1;32m<ipython-input-19-adef3c864ec1>\u001b[0m in \u001b[0;36m<module>\u001b[1;34m\u001b[0m\n\u001b[1;32m----> 1\u001b[1;33m \u001b[1;33m-\u001b[0m\u001b[1;33m-\u001b[0m\u001b[0muser\u001b[0m\u001b[1;33m\u001b[0m\u001b[1;33m\u001b[0m\u001b[0m\n\u001b[0m",
      "\u001b[1;31mNameError\u001b[0m: name 'user' is not defined"
     ]
    }
   ],
   "source": [
    "--user"
   ]
  },
  {
   "cell_type": "code",
   "execution_count": 25,
   "metadata": {},
   "outputs": [
    {
     "ename": "SyntaxError",
     "evalue": "invalid syntax (<ipython-input-25-d862f2cb76f9>, line 1)",
     "output_type": "error",
     "traceback": [
      "\u001b[1;36m  File \u001b[1;32m\"<ipython-input-25-d862f2cb76f9>\"\u001b[1;36m, line \u001b[1;32m1\u001b[0m\n\u001b[1;33m    venv env\u001b[0m\n\u001b[1;37m           ^\u001b[0m\n\u001b[1;31mSyntaxError\u001b[0m\u001b[1;31m:\u001b[0m invalid syntax\n"
     ]
    }
   ],
   "source": [
    "venv env\n",
    "source ./env/bin/activate "
   ]
  },
  {
   "cell_type": "code",
   "execution_count": null,
   "metadata": {},
   "outputs": [],
   "source": []
  }
 ],
 "metadata": {
  "kernelspec": {
   "display_name": "Python 3",
   "language": "python",
   "name": "python3"
  },
  "language_info": {
   "codemirror_mode": {
    "name": "ipython",
    "version": 3
   },
   "file_extension": ".py",
   "mimetype": "text/x-python",
   "name": "python",
   "nbconvert_exporter": "python",
   "pygments_lexer": "ipython3",
   "version": "3.7.3"
  }
 },
 "nbformat": 4,
 "nbformat_minor": 2
}
